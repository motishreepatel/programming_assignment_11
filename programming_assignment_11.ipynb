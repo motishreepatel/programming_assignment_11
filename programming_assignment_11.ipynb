{
 "cells": [
  {
   "cell_type": "code",
   "execution_count": 3,
   "metadata": {},
   "outputs": [
    {
     "name": "stdout",
     "output_type": "stream",
     "text": [
      "List of words greater than lenth 7 is:  ['bangalore', 'hyderabad']\n"
     ]
    }
   ],
   "source": [
    "#Q - 1. Write a Python program to find words which are greater than given length k?\n",
    "#Answer:\n",
    "def words_greater_than_length(lst,k):\n",
    "    words_list = []\n",
    "    for i in lst:\n",
    "        if len(i) > k:\n",
    "            words_list.append(i)\n",
    "    return words_list\n",
    "\n",
    "input_list = ['bangalore','hyderabad','chennai','delhi','kolkata','mysore']\n",
    "length_k = 7\n",
    "print(\"List of words greater than lenth\",length_k,\"is: \",words_greater_than_length(input_list,length_k) )"
   ]
  },
  {
   "cell_type": "code",
   "execution_count": 5,
   "metadata": {},
   "outputs": [
    {
     "name": "stdout",
     "output_type": "stream",
     "text": [
      "Remove, 5 character from the given string:  Good orning Everyone!\n"
     ]
    }
   ],
   "source": [
    "#Q - 2. Write a Python program for removing i-th character from a string?\n",
    "#Answer:\n",
    "def remove_ith_chr(str,i):\n",
    "    if(i<0 or i>len(str)):\n",
    "        return str\n",
    "    else:\n",
    "        return str[:i]+str[i+1:]\n",
    "input_string = \"Good Morning Everyone!\"\n",
    "num = 5\n",
    "print(\"Remove,\",num,\"character from the given string: \",remove_ith_chr(input_string,num))"
   ]
  },
  {
   "cell_type": "code",
   "execution_count": 12,
   "metadata": {},
   "outputs": [
    {
     "name": "stdout",
     "output_type": "stream",
     "text": [
      "Hello, World!\n"
     ]
    }
   ],
   "source": [
    "#Q - 3. Write a Python program to split and join a string?\n",
    "#Answer:\n",
    "def split_and_join(string,delimeter):\n",
    "    split_str = string.split(delimeter)\n",
    "    join_str = delimeter.join(split_str)\n",
    "    #return split_str\n",
    "    return join_str\n",
    "str = \"Hello, World!\"\n",
    "delimeter = \", \"\n",
    "print(split_and_join(str,delimeter))"
   ]
  },
  {
   "cell_type": "code",
   "execution_count": 23,
   "metadata": {},
   "outputs": [
    {
     "name": "stdout",
     "output_type": "stream",
     "text": [
      "True\n"
     ]
    }
   ],
   "source": [
    "#Q - 4. Write a Python to check if a given string is binary string or not?\n",
    "#Answer:\n",
    "def is_binary_string(str):\n",
    "    for i in str:\n",
    "        if i!='0' and i!='1' :\n",
    "            return False\n",
    "    return True\n",
    "string = \"101\"\n",
    "print(is_binary_string(string))"
   ]
  },
  {
   "cell_type": "code",
   "execution_count": 26,
   "metadata": {},
   "outputs": [
    {
     "name": "stdout",
     "output_type": "stream",
     "text": [
      "List of uncommon words from both list are:  {'you?', 'today?', 'Hi,', 'weather', 'are', 'is'}\n"
     ]
    }
   ],
   "source": [
    "#Q - 5. Write a Python program to find uncommon words from two Strings?\n",
    "#Answer:\n",
    "def find_uncommon_words(str1,str2):\n",
    "    words1 = set(str1.split()) #we are keeping list of words in a set to have unique words in the set\n",
    "    words2 = set(str2.split())\n",
    "\n",
    "    uncommon_words = words1.symmetric_difference(words2) #symmetric_difference function finds uncommon words between two sets\n",
    "    return uncommon_words\n",
    "\n",
    "string1 = \"Hello Hi, how are you?\"\n",
    "string2 = \"Hello how is weather today?\"\n",
    "print(\"List of uncommon words from both list are: \", find_uncommon_words(string1,string2))"
   ]
  },
  {
   "cell_type": "code",
   "execution_count": 27,
   "metadata": {},
   "outputs": [
    {
     "name": "stdout",
     "output_type": "stream",
     "text": [
      "The duplicate characters in given string is:  ['o', ' ', 'r', 'n', 'e']\n"
     ]
    }
   ],
   "source": [
    "#Q - 6. Write a Python to find all duplicate characters in string?\n",
    "#Answer:\n",
    "def find_duplicate_chars(str):\n",
    "    duplicate_list = []\n",
    "    for chr in str:\n",
    "        if str.count(chr) > 1 and chr not in duplicate_list:\n",
    "            duplicate_list.append(chr)\n",
    "    return duplicate_list\n",
    "\n",
    "string_input = \"Good Morning Everyone\"\n",
    "print(\"The duplicate characters in given string is: \",find_duplicate_chars(string_input))\n"
   ]
  },
  {
   "cell_type": "code",
   "execution_count": 31,
   "metadata": {},
   "outputs": [
    {
     "name": "stdout",
     "output_type": "stream",
     "text": [
      "The string 'Hello, World!' contains special characters: True\n"
     ]
    }
   ],
   "source": [
    "#Q - 7. Write a Python Program to check if a string contains any special character?\n",
    "#Answer:\n",
    "import re\n",
    "\n",
    "def has_special_character(string):\n",
    "    special_chars = re.compile('[@_!#$%^&*()<>?/\\|}{~:]')\n",
    "    return special_chars.search(string) is not None\n",
    "\n",
    "# Example usage\n",
    "input_string = \"Hello, World!\"\n",
    "\n",
    "has_special = has_special_character(input_string)\n",
    "print(f\"The string '{input_string}' contains special characters: {has_special}\")"
   ]
  },
  {
   "cell_type": "code",
   "execution_count": null,
   "metadata": {},
   "outputs": [],
   "source": []
  }
 ],
 "metadata": {
  "kernelspec": {
   "display_name": "Python 3.9.6 64-bit",
   "language": "python",
   "name": "python3"
  },
  "language_info": {
   "codemirror_mode": {
    "name": "ipython",
    "version": 3
   },
   "file_extension": ".py",
   "mimetype": "text/x-python",
   "name": "python",
   "nbconvert_exporter": "python",
   "pygments_lexer": "ipython3",
   "version": "3.9.6"
  },
  "orig_nbformat": 4,
  "vscode": {
   "interpreter": {
    "hash": "31f2aee4e71d21fbe5cf8b01ff0e069b9275f58929596ceb00d14d90e3e16cd6"
   }
  }
 },
 "nbformat": 4,
 "nbformat_minor": 2
}
